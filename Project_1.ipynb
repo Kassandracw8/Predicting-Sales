{
  "nbformat": 4,
  "nbformat_minor": 0,
  "metadata": {
    "colab": {
      "provenance": [],
      "toc_visible": true,
      "authorship_tag": "ABX9TyNuFxI7oiJEH1EoVCj28+f1",
      "include_colab_link": true
    },
    "kernelspec": {
      "name": "python3",
      "display_name": "Python 3"
    },
    "language_info": {
      "name": "python"
    }
  },
  "cells": [
    {
      "cell_type": "markdown",
      "metadata": {
        "id": "view-in-github",
        "colab_type": "text"
      },
      "source": [
        "<a href=\"https://colab.research.google.com/github/Kassandracw8/Predicting-Sales/blob/main/Project_1.ipynb\" target=\"_parent\"><img src=\"https://colab.research.google.com/assets/colab-badge.svg\" alt=\"Open In Colab\"/></a>"
      ]
    },
    {
      "cell_type": "markdown",
      "source": [
        "# **Data Science Salary Insights**\n",
        "Kassandra Howard"
      ],
      "metadata": {
        "id": "eaykllmf5bPj"
      }
    },
    {
      "cell_type": "markdown",
      "source": [
        "# Loading Data"
      ],
      "metadata": {
        "id": "zDf1GKa3ZQGt"
      }
    },
    {
      "cell_type": "markdown",
      "source": [
        "# Data Cleaning"
      ],
      "metadata": {
        "id": "jeHxzs40ZQHv"
      }
    },
    {
      "cell_type": "markdown",
      "source": [
        "# Exploratory Visual"
      ],
      "metadata": {
        "id": "vxDHtSdghbMC"
      }
    },
    {
      "cell_type": "markdown",
      "source": [
        "# Eplanatory Visuals"
      ],
      "metadata": {
        "id": "PvptUJkDhpak"
      }
    }
  ]
}